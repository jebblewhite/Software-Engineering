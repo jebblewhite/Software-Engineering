{
 "cells": [
  {
   "cell_type": "markdown",
   "source": [
    "# 1. Principles of OOP Design"
   ],
   "metadata": {}
  },
  {
   "cell_type": "markdown",
   "source": [
    "The basis for effective software design is in its name: __Intentional Design__. While designing your code, you will find that you need to reuse the same algorithms over and over again, so it is important to organize your code to:\n",
    "\n",
    "1. Save time for you and your teammates when you have to revisit the code\n",
    "2. Reuse the same algorithm but with different parameters\n",
    "3. Avoid common pitfalls caused by extensive code\n",
    "4. Increase the flexibility of your code by keeping placeholders for your functions or methods"
   ],
   "metadata": {}
  },
  {
   "cell_type": "markdown",
   "source": [
    "In this notebook you will learn the hierarchical structure of a project, which is the foundation of clean code. We will see how to use Python's features for organizing our code, and what level of granularity we should consider when separating it.\n",
    "\n",
    "_What we are going to see is what we saw during the essentials, but a professional level. So brace yourselves!_\n",
    "\n",
    "# Concerns, Scope, and Namespaces\n",
    "\n",
    "Before we start talking about classes, we need to define three concepts:\n",
    "\n",
    "__1. Concerns__\n",
    "\n",
    "__2. Scope__\n",
    "\n",
    "__3. Namespace__"
   ],
   "metadata": {}
  },
  {
   "cell_type": "markdown",
   "source": [
    "> ## Concerns\n",
    ">\n",
    "> #### In programming, a __concern__ is a distinct behaviour presented by your code. \n",
    "> <br />\n",
    "\n",
    "For example, if you are extracting cat images from a website, a concern can be connecting to the webpage, or it can be downloading the image, or even checking whether the used URL is legit."
   ],
   "metadata": {}
  },
  {
   "cell_type": "markdown",
   "source": [
    "> ## Scope\n",
    ">\n",
    "> ### The scope of an object defines the area of a program in which you can unambiguously access that name\n",
    "> <br>"
   ],
   "metadata": {}
  },
  {
   "cell_type": "markdown",
   "source": [
    "You might be already be familiar with this concept, as well as two general scopes, global and local:\n",
    "\n",
    "1. Global Scope: The names are available in all your __code__, even inside functions\n",
    "2. Local Scope: The names are only available within this scope. For example, variables within a function are not accesible out of the function"
   ],
   "metadata": {}
  },
  {
   "cell_type": "code",
   "execution_count": null,
   "source": [
    "outside_variable = 'I am global!'\r\n",
    "\r\n",
    "def awesome_function():\r\n",
    "    print('The outside variable says: ' + outside_variable)\r\n",
    "    awesomeness = 9001\r\n",
    "\r\n",
    "# When running the function, it will run everything inside\r\n",
    "# Notice that awesome_function doesn't return anything (Void function)\r\n",
    "# so it will only print out anything if there is a print statement INSIDE the function\r\n",
    "awesome_function()\r\n",
    "\r\n",
    "print(awesomeness)"
   ],
   "outputs": [],
   "metadata": {}
  },
  {
   "cell_type": "markdown",
   "source": [
    "However one concept for scopes in Software Engineering is LEGB (Local, Enclosing, Global, and Built-in) scopes:\n",
    "\n",
    "- Local scope: This Python scope contains the names that you define inside the function\n",
    "- Enclosing scope: This Python scope only exists for nested functions. If the local scope is an inner or nested function, then the enclosing scope is the scope of the outer or enclosing function\n",
    "- Global scope: This Python scope contains all of the names that you define at the top level of a program or a module\n",
    "- Built-in Scope: This Python scope is created whenever you run a script or open an interactive session. \n",
    "\n",
    "The LEGB rule determines the order in which Python looks for variables. \n"
   ],
   "metadata": {}
  },
  {
   "cell_type": "code",
   "execution_count": null,
   "source": [
    "outside_variable = 'I am global!'\r\n",
    "\r\n",
    "def awesome_function():\r\n",
    "    print('I am in awesome function, the global variable says: ' + outside_variable)\r\n",
    "    enclosing_variable = 'I am an enclosed variable!'\r\n",
    "    def incredible_function():\r\n",
    "        print('I am in incredible function, the global variable says: ' + outside_variable)\r\n",
    "        print('I am in incredible function, the enclosed variable says: ' + enclosing_variable)\r\n",
    "        local_variable = 'I am incredible, but since I am local I can\\'t be used outside here :('\r\n",
    "        return local_variable\r\n",
    "    incredible_function()\r\n",
    "    print('I am in awesome function, the global variable says: ' + local_variable)\r\n",
    "\r\n",
    "awesome_function()"
   ],
   "outputs": [],
   "metadata": {}
  },
  {
   "cell_type": "markdown",
   "source": [
    "During these examples we have been using `print` in all scopes. That is because `print` is in the Built-in scope, so it can be accessed anywhere. "
   ],
   "metadata": {}
  },
  {
   "cell_type": "markdown",
   "source": [
    "> ## Namespace\n",
    ">\n",
    "> ### A namespace is a collection of currently defined symbolic names along with information about the object that each name references\n",
    "> <br />\n",
    "\n",
    "In other words, namespaces are sets of names contained in the scope. They are a honking great idea! (look for [The Zen of Python](https://www.python.org/dev/peps/pep-0020/#id2))\n",
    "\n",
    "The concepts of _Namespaces_ and _Scopes_ are similar, but they are not the same. Python scopes are implemented as dictionaries that map names to objects, and that dictionary is the namespace.\n",
    "\n",
    "Namespaces are useful for:\n",
    "\n",
    "1. Minimizing collisions between identical names in different scripts\n",
    "2. Making educated guesses about where code might live\n",
    "3. Making educated guesses about where new code should be introduced."
   ],
   "metadata": {}
  },
  {
   "cell_type": "markdown",
   "source": [
    "When you open a Python interpreter, the `built-in` scope is populated with the objects built in Python, for example `print()` or `__name__`. The `__name__` attrribute indicates the name of the file we are running, thus, when importing a module, the value `__name__` of that module will be its name. Let's import `foo.py` and see its `__name__`"
   ],
   "metadata": {}
  },
  {
   "cell_type": "code",
   "execution_count": null,
   "source": [
    "import foo\r\n",
    "import bar\r\n",
    "bar.__dict__"
   ],
   "outputs": [],
   "metadata": {}
  },
  {
   "cell_type": "code",
   "execution_count": null,
   "source": [
    "import foo\r\n",
    "foo.__name__"
   ],
   "outputs": [],
   "metadata": {}
  },
  {
   "cell_type": "markdown",
   "source": [
    "Looks obvious right? However, what do you think the value of `__name__` will be in this notebook? `Principles of OOP`?"
   ],
   "metadata": {}
  },
  {
   "cell_type": "code",
   "execution_count": null,
   "source": [
    "print(__name__)"
   ],
   "outputs": [],
   "metadata": {}
  },
  {
   "cell_type": "markdown",
   "source": [
    "The name of the file that opened the interpreter will be `__main__` (Now, the `if __name__ == '__main__'` statement makes sense!)\n"
   ],
   "metadata": {}
  },
  {
   "cell_type": "markdown",
   "source": [
    "### Namespaces and imports"
   ],
   "metadata": {}
  },
  {
   "cell_type": "markdown",
   "source": [
    "\n",
    "When you import a module, Python creates an additional namespace for that module by creating a new dictionary. In this directory we have another module named `foo.py`, so when we import it into our main script, the variables in `foo.py` are present in the `__main__` script, but it will have a 'first name' corresponding to the name of the module"
   ],
   "metadata": {}
  },
  {
   "cell_type": "code",
   "execution_count": null,
   "source": [
    "import foo\r\n",
    "x = 'I am \"x\" in this notebook'\r\n",
    "print('Printing x: ' + x)\r\n",
    "print('Printing foo.x: ' + foo.x)"
   ],
   "outputs": [],
   "metadata": {}
  },
  {
   "cell_type": "markdown",
   "source": [
    "Observe that `foo` is in the global scope, we can call for it within a function:"
   ],
   "metadata": {}
  },
  {
   "cell_type": "code",
   "execution_count": null,
   "source": [
    "def print_foo():\r\n",
    "    print('I am in the outer function, and foo.x says: ' + foo.x)\r\n",
    "    def nested_foo():\r\n",
    "        print('I am in the inner function, and foo.x says: ' + foo.x)\r\n",
    "    nested_foo()\r\n",
    "\r\n",
    "print_foo()"
   ],
   "outputs": [],
   "metadata": {}
  },
  {
   "cell_type": "markdown",
   "source": [
    "The following image shows the levels of scope, and how the namespace can be accessed from each level:\n",
    "![](images/namespaces.png)\n"
   ],
   "metadata": {}
  },
  {
   "cell_type": "markdown",
   "source": [
    "Something important in Python is that, if the namespace already contains a module, the import statement will not work again. So for example if we import `foo`, then we make changes to `foo`, importing `foo` again won't reflect those changes, because Python will already have a `foo` module in its namespace"
   ],
   "metadata": {}
  },
  {
   "cell_type": "code",
   "execution_count": null,
   "source": [
    "import foo\r\n",
    "print(foo.x)"
   ],
   "outputs": [],
   "metadata": {}
  },
  {
   "cell_type": "markdown",
   "source": [
    "We can see that `foo.x` is the same as in `foo.py`. Now, we change the value in the main namespace"
   ],
   "metadata": {}
  },
  {
   "cell_type": "code",
   "execution_count": null,
   "source": [
    "foo.x = 'I changed...'\n",
    "print(foo.x)"
   ],
   "outputs": [],
   "metadata": {}
  },
  {
   "cell_type": "markdown",
   "source": [
    "If we try to re-import `foo`, Python will check in its namespace, and it will see that there it already imported a module named `foo`, so it won't do anything."
   ],
   "metadata": {}
  },
  {
   "cell_type": "code",
   "execution_count": null,
   "source": [
    "import foo\r\n",
    "print(foo.x)"
   ],
   "outputs": [],
   "metadata": {}
  },
  {
   "cell_type": "markdown",
   "source": [
    "One final note about namespaces and scopes. Python has many libraries, and some methods will have unavoidably the same name. For example, the `time` method appears in the `time` module and in the `datetime` module"
   ],
   "metadata": {}
  },
  {
   "cell_type": "code",
   "execution_count": null,
   "source": [
    "from time import time\r\n",
    "from datetime import time\r\n",
    "\r\n",
    "print(time())"
   ],
   "outputs": [],
   "metadata": {}
  },
  {
   "cell_type": "markdown",
   "source": [
    "Which one are we using? In this case, take into account that we are not importing the module, but only the methods. Python will overwrite previous names in the namespace, so it only takes the last import statement. If we want to store both methods, we have to alternatives:\n",
    "\n",
    "1. Simply importing the module, and add the name of the modules to the namespace\n",
    "2. Give an alias to the methods"
   ],
   "metadata": {}
  },
  {
   "cell_type": "code",
   "execution_count": null,
   "source": [
    "import datetime\r\n",
    "import time\r\n",
    "\r\n",
    "print(datetime.time())\r\n",
    "print(time.time())"
   ],
   "outputs": [],
   "metadata": {}
  },
  {
   "cell_type": "code",
   "execution_count": null,
   "source": [
    "from datetime import time as dttime\r\n",
    "from time import time as ttime\r\n",
    "\r\n",
    "print(dttime())\r\n",
    "print(ttime())"
   ],
   "outputs": [],
   "metadata": {}
  },
  {
   "cell_type": "markdown",
   "source": [
    "## Questions\n",
    "\n",
    "Wait for the fantastic instructor to Ctrl+C Ctrl+V the code and guess the outputs"
   ],
   "metadata": {}
  },
  {
   "cell_type": "markdown",
   "source": [
    "# Separation Rules in Python"
   ],
   "metadata": {}
  },
  {
   "cell_type": "markdown",
   "source": [
    "> ## Do one thing and do it well"
   ],
   "metadata": {}
  },
  {
   "cell_type": "markdown",
   "source": [
    "This is the Unix philosophy for separting concerns. Each part of your code should be CONCERNed with one behaviour, and each CONCERN should be covered by only one piece of code.\n",
    "\n",
    "We are going to review two tools that we already know to apply this principle: Functions and Classes.\n",
    "\n",
    "## Functions for separating concerns\n",
    "\n",
    "1. __Don't create two pieces of code that do something similar__. For example, the concern of one part is used for extracting images of cats, and the concern of other piece is used for extracting images of dogs. Instead, create a function that accepts an argument. \n",
    "\n",
    "Don't do this:\n"
   ],
   "metadata": {}
  },
  {
   "cell_type": "code",
   "execution_count": null,
   "source": [
    "from selenium import webdriver\r\n",
    "import urllib.request\r\n",
    "import time\r\n",
    "\r\n",
    "driver = webdriver.Chrome()\r\n",
    "# Get links for dogs\r\n",
    "URL = 'https://unsplash.com/s/photos/dog'\r\n",
    "driver.get(URL)\r\n",
    "dog_list = driver.find_elements_by_xpath('//figure[@itemprop=\"image\"]')\r\n",
    "links = []\r\n",
    "for dog in dog_list:\r\n",
    "    links.append(dog.find_element_by_xpath('.//a').get_attribute('href'))\r\n",
    "# go to the link containing the image\r\n",
    "for i, link in enumerate(links):\r\n",
    "    driver.get(link)\r\n",
    "    time.sleep(0.5)\r\n",
    "    src = driver.find_element_by_xpath('//img[@class=\"_2UpQX\"]').get_attribute('src')\r\n",
    "    urllib.request.urlretrieve(src, f\"dog_{i}.jpg\")\r\n",
    "    \r\n",
    "# Get links for cats\r\n",
    "URL = 'https://unsplash.com/s/photos/cat'\r\n",
    "driver.get(URL)\r\n",
    "cat_list = driver.find_elements_by_xpath('//figure[@itemprop=\"image\"]')\r\n",
    "links = []\r\n",
    "for cat in cat_list:\r\n",
    "    links.append(cat.find_element_by_xpath('.//a').get_attribute('href'))\r\n",
    "# go to the link containing the image\r\n",
    "for i, link in enumerate(links):\r\n",
    "    driver.get(link)\r\n",
    "    time.sleep(0.5)\r\n",
    "    src = driver.find_element_by_xpath('//img[@class=\"_2UpQX\"]').get_attribute('src')\r\n",
    "    urllib.request.urlretrieve(src, f\"cat_{i}.jpg\")"
   ],
   "outputs": [],
   "metadata": {}
  },
  {
   "cell_type": "markdown",
   "source": [
    "Do this:"
   ],
   "metadata": {}
  },
  {
   "cell_type": "code",
   "execution_count": null,
   "source": [
    "from selenium import webdriver\r\n",
    "\r\n",
    "def get_animal_pictures(driver: webdriver, animal: str, root: str) -> None:\r\n",
    "    URL = root + animal\r\n",
    "    driver.get(URL)\r\n",
    "    animal_list = driver.find_elements_by_xpath('//figure[@itemprop=\"image\"]')\r\n",
    "    links = []\r\n",
    "    for item in animal_list:\r\n",
    "        links.append(item.find_element_by_xpath('.//a').get_attribute('href'))\r\n",
    "    # go to the link containing the image\r\n",
    "    for i, link in enumerate(links):\r\n",
    "        driver.get(link)\r\n",
    "        time.sleep(0.5)\r\n",
    "        src = driver.find_element_by_xpath('//img[@class=\"_2UpQX\"]').get_attribute('src')\r\n",
    "        urllib.request.urlretrieve(src, f\"{animal}_{i}.jpg\") # <- We are also using the variable animal here!\r\n",
    "\r\n",
    "driver = webdriver.Chrome()\r\n",
    "root = 'https://unsplash.com/s/photos/'\r\n",
    "animal = 'cat'\r\n",
    "get_animal_pictures(driver, animal, root)"
   ],
   "outputs": [],
   "metadata": {}
  },
  {
   "cell_type": "markdown",
   "source": [
    "\n",
    "2. __Don't have the same piece of code with two concerns__. For example, a piece of code go to the webpage to extract the links AND iterate through the links AND download the images. Instead create a function for each concern.\n",
    "\n",
    "Thus, instead of the code above:"
   ],
   "metadata": {}
  },
  {
   "cell_type": "code",
   "execution_count": null,
   "source": [
    "from selenium import webdriver\n",
    "\n",
    "def extract_links(driver: webdriver, animal: str, root: str) -> list:\n",
    "    URL = root + animal\n",
    "    driver.get(URL)\n",
    "    animal_list = driver.find_elements_by_xpath('//figure[@itemprop=\"image\"]')\n",
    "    links = []\n",
    "    for item in animal_list:\n",
    "        links.append(item.find_element_by_xpath('.//a').get_attribute('href'))\n",
    "    return links\n",
    "\n",
    "def get_image_source(driver: webdriver, link: str) -> str:\n",
    "    driver.get(link)\n",
    "    time.sleep(0.5)\n",
    "    src = driver.find_element_by_xpath('//img[@class=\"_2UpQX\"]').get_attribute('src')\n",
    "    return src\n",
    "\n",
    "def download_images(src: str, animal: str, i: int) -> None:\n",
    "    urllib.request.urlretrieve(src, f\"{animal}_{i}.jpg\")\n",
    "\n",
    "\n",
    "animal = 'cat'\n",
    "root = 'https://unsplash.com/s/photos/'\n",
    "driver = webdriver.Chrome()\n",
    "links = extract_links(driver, animal, root)\n",
    "for i, link in enumerate(links):\n",
    "    src = get_image_source(driver, link)\n",
    "    download_images(src, animal, i)"
   ],
   "outputs": [],
   "metadata": {}
  },
  {
   "cell_type": "markdown",
   "source": [
    "This looks like an overkill, but it's not (trust me, I would do it much more granulated). Separating each concern into functions looks like you are writing more code, but this way of separating everything will pay off. When you are adding features, debugging, or testing your code, you will see which part is causing the issue, because you are __detaching__ events.\n",
    "\n",
    ">  ## The higher the granularity, the easier the debugging"
   ],
   "metadata": {}
  },
  {
   "cell_type": "markdown",
   "source": [
    "For example, doing it this way allows you to easily change the animal (flexibility), you will be able to separate scopes and namespaces (robustness), and (something extremely important) increase readability. \n",
    "\n",
    "Now it looks like everything is too much because it is cramped into a single cell, but usually in your main code you will have the following:"
   ],
   "metadata": {}
  },
  {
   "cell_type": "code",
   "execution_count": null,
   "source": [
    "animal = 'cat'\n",
    "root = 'https://unsplash.com/s/photos/'\n",
    "driver = webdriver.Chrome()\n",
    "links = extract_links(driver, animal, root)\n",
    "for i, link in enumerate(links):\n",
    "    src = get_image_source(driver, link)\n",
    "    download_images(src, animal, i)"
   ],
   "outputs": [],
   "metadata": {}
  },
  {
   "cell_type": "markdown",
   "source": [
    "Before we move on, one word on function names:\n",
    "\n",
    "1. __Be concise__. Name your function with a descriptive name. get_info(), do_this() are not very informative. But don't go to the other end of the spectrum! get_information_about_the_weather_by_scraping_multiple_pages() is just too much!\n",
    "2. __Functions are actions__: Don't name your function with a name or subject, functions are actions, and as such, they should contain a verb: image_scraper(), rock_paper_scissor(), music_player()... these functions gives information, but they are not very specific. Is the image_scraper getting something? Maybe it just look for the links... \n",
    "3. __Use the name convention__: You can use any sort of writing, but try to stick to the convention. If someone sees GetImage(), they will assume it is a class. Function should have snake_case style."
   ],
   "metadata": {}
  },
  {
   "cell_type": "markdown",
   "source": [
    "## Classes for connecting concerns"
   ],
   "metadata": {}
  },
  {
   "cell_type": "markdown",
   "source": [
    "As you keep adding code to your project, more and more concerns will be added. Over time, you will see that functions will work in tandem frequently. If you pass the result of one function to another very frequently, or several functions require the same input, then, everything points that you need to define a class. \n",
    "\n",
    "We can simply put the functions into a class (but it won't be very efficient)"
   ],
   "metadata": {}
  },
  {
   "cell_type": "code",
   "execution_count": null,
   "source": [
    "from selenium import webdriver\n",
    "\n",
    "# Let's define our class\n",
    "class AnimalScraper:\n",
    "    def extract_links(driver: webdriver, animal: str, root: str) -> list:\n",
    "        URL = root + animal\n",
    "        driver.get(URL)\n",
    "        animal_list = driver.find_elements_by_xpath('//figure[@itemprop=\"image\"]')\n",
    "        links = []\n",
    "        for item in animal_list:\n",
    "            links.append(item.find_element_by_xpath('.//a').get_attribute('href'))\n",
    "        return links\n",
    "\n",
    "    def get_image_source(driver: webdriver, link: str) -> str:\n",
    "        driver.get(link)\n",
    "        time.sleep(0.5)\n",
    "        src = driver.find_element_by_xpath('//img[@class=\"_2UpQX\"]').get_attribute('src')\n",
    "        return src\n",
    "\n",
    "    def download_images(src: str, animal: str, i: int) -> None:\n",
    "        urllib.request.urlretrieve(src, f\"{animal}_{i}.jpg\")"
   ],
   "outputs": [],
   "metadata": {}
  },
  {
   "cell_type": "code",
   "execution_count": null,
   "source": [
    "scraper = AnimalScraper()\n",
    "root = 'https://unsplash.com/s/photos/'\n",
    "driver = webdriver.Chrome()\n",
    "animal = 'cat'\n",
    "links = scraper.extract_links(driver=driver, animal=animal, root='https://unsplash.com/s/photos/')\n",
    "for i, link in enumerate(links):\n",
    "    src = scraper.get_image_source(driver=driver, link=link)\n",
    "    scraper.download_images(src=src, animal=animal, i=i)"
   ],
   "outputs": [],
   "metadata": {}
  },
  {
   "cell_type": "markdown",
   "source": [
    "This seems quite useless... That's because we are not making the most out of classes. In the cell above, look at the variables for each method, they are repeated and/or depend on other method to be run. Instances created from classes can store values in its attributes. When we construct the class, we use the `__init__` method, and we give values to `self`"
   ],
   "metadata": {}
  },
  {
   "cell_type": "code",
   "execution_count": null,
   "source": [
    "from selenium import webdriver\n",
    "import time\n",
    "# Let's define our class\n",
    "class AnimalScraper:\n",
    "    def __init__(self, animal, root):\n",
    "        self.animal = animal\n",
    "        self.root = root\n",
    "        self.driver = webdriver.Chrome()\n",
    "        self.links = [] # Initialize links, so if the user calls for get_image_source, it doesn't throw an error\n",
    "    \n",
    "    def extract_links(self) -> None:\n",
    "        self.driver.get(root + animal)\n",
    "        animal_list = self.driver.find_elements_by_xpath('//figure[@itemprop=\"image\"]')\n",
    "        self.links = []\n",
    "        for item in animal_list:\n",
    "            self.links.append(item.find_element_by_xpath('.//a').get_attribute('href'))\n",
    "\n",
    "    def get_image_source(self, link: str) -> None:\n",
    "        self.driver.get(link)\n",
    "        time.sleep(0.5)\n",
    "        self.src = driver.find_element_by_xpath('//img[@class=\"_2UpQX\"]').get_attribute('src')\n",
    "\n",
    "    def download_images(self, i) -> None:\n",
    "        urllib.request.urlretrieve(self.src, f\"{self.animal}_{i}.jpg\")\n",
    "    \n",
    "    def get_animal_images(self):\n",
    "        self.extract_links()\n",
    "        for i, link in enumerate(self.links):\n",
    "            self.get_image_source(link)\n",
    "            self.download_images(i)\n",
    "        self.links = []"
   ],
   "outputs": [],
   "metadata": {}
  },
  {
   "cell_type": "markdown",
   "source": [
    "Now, the your main code will look like this:"
   ],
   "metadata": {}
  },
  {
   "cell_type": "code",
   "execution_count": null,
   "source": [
    "cat_scraper = AnimalScraper('cat', 'https://unsplash.com/s/photos/')\n",
    "cat_scraper.get_animal_images()"
   ],
   "outputs": [],
   "metadata": {}
  },
  {
   "cell_type": "markdown",
   "source": [
    "Much more cleaner, and as an added bonus, the user can't easily access some variables we don't want him to see (for example, extract_links doesn't return anything)"
   ],
   "metadata": {}
  },
  {
   "cell_type": "markdown",
   "source": [
    "> ## Defining classes and refactoring your code is an art, and as such, it requires time and consistency to master"
   ],
   "metadata": {}
  },
  {
   "cell_type": "markdown",
   "source": [
    "# Summary"
   ],
   "metadata": {}
  },
  {
   "cell_type": "markdown",
   "source": [
    "- Separating concerns is crucial for understable code. Before separating your code and refactoring it, look at the big picture, and observe what is the main concern of your code. Then go deeper and separate everything into smaller concerns.\n",
    "- Functions contain individual concerns that can separate your code into chunks that make your code more understandable. Another benefit of using functions are their reusability\n",
    "- Classes bundle concerns that share inputs and outputs. They can store attributes that will be characteristic of a single instance, and changing the behaviour of the class by passing different arguments. Use them wisely!"
   ],
   "metadata": {}
  },
  {
   "cell_type": "markdown",
   "source": [
    "# Challenge:"
   ],
   "metadata": {}
  },
  {
   "cell_type": "markdown",
   "source": [
    "\n",
    "## Q1. Your task is to create a single class with ALL the functionalities of the following code"
   ],
   "metadata": {}
  },
  {
   "cell_type": "code",
   "execution_count": null,
   "source": [
    "import random\n",
    "\n",
    "# Print the options:\n",
    "options = ['rock', 'paper', 'scissors']\n",
    "print('(1) Rock\\n(2) Paper\\n(3) Scissors')\n",
    "# Let the user choose\n",
    "human_choice = options[int(input('Enter the number of your choice: ')) - 1]\n",
    "# Print the user's choice\n",
    "print(f'You chose {human_choice}')\n",
    "# Make the computer choose one option amongst the options list\n",
    "computer_choice = random.choice(options)\n",
    "# print the computer's choice\n",
    "print(f'The computer chose {computer_choice}')\n",
    "# Print the results\n",
    "if human_choice == 'rock':\n",
    "    if computer_choice == 'paper':\n",
    "        print('Sorry, paper beat rock')\n",
    "    elif computer_choice == 'scissors':\n",
    "        print('Yes, rock beat scissors!')\n",
    "    else:\n",
    "        print('Draw!')\n",
    "elif human_choice == 'paper':\n",
    "    if computer_choice == 'scissors':\n",
    "        print('Sorry, scissors beat paper')\n",
    "    elif computer_choice == 'rock':\n",
    "        print('Yes, paper beat rock!')\n",
    "    else:\n",
    "        print('Draw!')\n",
    "elif human_choice == 'scissors':\n",
    "    if computer_choice == 'rock':\n",
    "        print('Sorry, rock beat scissors')\n",
    "    elif computer_choice == 'paper':\n",
    "        print('Yes, scissors beat paper!')\n",
    "    else:\n",
    "        print('Draw!')"
   ],
   "outputs": [],
   "metadata": {}
  },
  {
   "cell_type": "markdown",
   "source": [
    "### Q1.a  First, create the following functions:\n",
    "1. get_computer_choice(). Randomly pick an option\n",
    "2. get_human_choice(). Ask the user for an input\n",
    "3. print_options(). For this one, try to make it more flexible, so options can take more values eventually\n",
    "4. print_choices(human_choice, computer_choice). Print two lines, where each one corresponds to the choice of each player\n",
    "5. print_result(human_choice, computer_choice). Use the print_win_lose function to print who won according to the rules of the game"
   ],
   "metadata": {}
  },
  {
   "cell_type": "code",
   "execution_count": null,
   "source": [
    "def print_win_lose(human_choice, computer_choice, human_beats, human_loses_to):\n",
    "    if computer_choice == human_loses_to:\n",
    "        print(f'Sorry, {computer_choice} beats {human_choice}')\n",
    "    elif computer_choice == human_beats:\n",
    "        print(f'Yes, {human_choice} beats {computer_choice}!')"
   ],
   "outputs": [],
   "metadata": {}
  },
  {
   "cell_type": "code",
   "execution_count": null,
   "source": [
    "### Create the functions here"
   ],
   "outputs": [],
   "metadata": {}
  },
  {
   "cell_type": "markdown",
   "source": [
    "Once you create the functions, run the following code"
   ],
   "metadata": {}
  },
  {
   "cell_type": "code",
   "execution_count": null,
   "source": [
    "import random\n",
    "\n",
    "OPTIONS = ['rock', 'paper', 'scissors']\n",
    "\n",
    "print_options()\n",
    "human_choice = get_human_choice()\n",
    "computer_choice = get_computer_choice()\n",
    "print_choices(human_choice, computer_choice)\n",
    "print_result(human_choice, computer_choice)"
   ],
   "outputs": [],
   "metadata": {}
  },
  {
   "cell_type": "markdown",
   "source": [
    "### Q1.b Move the function into a class as methods"
   ],
   "metadata": {}
  },
  {
   "cell_type": "code",
   "execution_count": null,
   "source": [
    "import random\n",
    "\n",
    "class JanKenPon:\n",
    "    options = ['rock', 'paper', 'scissors']\n",
    "    def __init__(self):\n",
    "        self.computer_choice = None\n",
    "        self.human_choice = None\n",
    "    \n",
    "    def get_computer_choice(self):\n",
    "        self.computer = random.choice(self.options)\n",
    "    \n",
    "    def get_human_choice(self):\n",
    "        ### Your code here###\n",
    "        pass\n",
    "\n",
    "    def print_options(self):\n",
    "        ### Your code here###\n",
    "        pass\n",
    "\n",
    "    def print_choices(self): \n",
    "        ### Your code here###\n",
    "        pass\n",
    "\n",
    "    def print_win_lose(self, human_beats, human_loses_to):\n",
    "        ### Your code here###\n",
    "        pass\n",
    "\n",
    "    def print_result(self):\n",
    "        ### Your code here###\n",
    "        pass\n",
    "\n",
    "    def simulate(self):\n",
    "        self.print_options()\n",
    "        self.get_human_choice()\n",
    "        self.get_computer_choice()\n",
    "        self.print_choices()\n",
    "        self.print_result()\n",
    "\n",
    "game = JanKenPon()\n",
    "game.simulate()\n"
   ],
   "outputs": [],
   "metadata": {}
  },
  {
   "cell_type": "markdown",
   "source": [
    "## Q2 Bonus\n",
    "\n",
    "Can you implement a class that takes more than 3 options? For example `[rock, paper, scissors, lizard, spock]`"
   ],
   "metadata": {}
  },
  {
   "cell_type": "markdown",
   "source": [
    "# Assessments"
   ],
   "metadata": {}
  },
  {
   "cell_type": "markdown",
   "source": [
    "### 1. Look information about the module builtins. Do you see something familiar in its methods and attributes?\n"
   ],
   "metadata": {}
  },
  {
   "cell_type": "markdown",
   "source": [
    "### 2. There are two keywords for defining the scope of a variable within a function: `global` and `nonlocal`. Look for information about them, what is their difference?"
   ],
   "metadata": {}
  },
  {
   "cell_type": "markdown",
   "source": [
    "### 3. Decorators have an inner function, which is usually named wrapper. When you pass a function to the decorator function, the nested wrapper will get access to that function. How do you send arguments so that the wrapper can also accept external arguments?"
   ],
   "metadata": {}
  },
  {
   "cell_type": "code",
   "execution_count": null,
   "source": [
    "def my_decorator(func):\n",
    "    def wrapper(): # <- What do you write inside?\n",
    "        func() # <- so that this function can run with external arguments?\n",
    "    return wrapper"
   ],
   "outputs": [],
   "metadata": {}
  },
  {
   "cell_type": "markdown",
   "source": [
    "### 3.1 Can my_decorator access to the arguments you pass to wrapper?"
   ],
   "metadata": {}
  },
  {
   "cell_type": "markdown",
   "source": [],
   "metadata": {}
  }
 ],
 "metadata": {
  "interpreter": {
   "hash": "569d6b7e9215e11aba41c6454007e5c1b78bad7df09dab765d8cf00362c40f03"
  },
  "kernelspec": {
   "name": "python3",
   "display_name": "Python 3.9.1 64-bit ('base': conda)"
  },
  "language_info": {
   "codemirror_mode": {
    "name": "ipython",
    "version": 3
   },
   "file_extension": ".py",
   "mimetype": "text/x-python",
   "name": "python",
   "nbconvert_exporter": "python",
   "pygments_lexer": "ipython3",
   "version": "3.9.1"
  },
  "orig_nbformat": 4
 },
 "nbformat": 4,
 "nbformat_minor": 2
}