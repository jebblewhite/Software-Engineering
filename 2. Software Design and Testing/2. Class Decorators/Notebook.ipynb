{
 "cells": [
  {
   "cell_type": "markdown",
   "source": [
    "# Class Decorators"
   ],
   "metadata": {}
  },
  {
   "cell_type": "markdown",
   "source": [
    "A very useful tool to keep your code tidy and readable are decorators. A decorator is a function that is used to add functionality to a function, method, or even a class. \n",
    "\n",
    "In this notebook we will see the most common and useful decorators and how to use them. You might remember some of them from previous notebooks, so we will not go into too much detail for some of them."
   ],
   "metadata": {}
  },
  {
   "cell_type": "markdown",
   "source": [
    "# Class methods"
   ],
   "metadata": {}
  },
  {
   "cell_type": "markdown",
   "source": [
    "Class methods are a way to create a method that can be called on a class, rather than on an instance.\n",
    "By now, you already know pandas and how to read a dictionary."
   ],
   "metadata": {}
  },
  {
   "cell_type": "code",
   "execution_count": 9,
   "source": [
    "import pandas as pd\r\n",
    "my_dict = {'Name': ['Rick', 'Morty', 'Summer'], 'Last Name': ['Sanchez', 'Smith', 'Smith'], 'Age': [70, 14, 17]}\r\n",
    "df = pd.DataFrame.from_dict(my_dict)\r\n",
    "print(df)"
   ],
   "outputs": [
    {
     "output_type": "stream",
     "name": "stdout",
     "text": [
      "     Name Last Name  Age\n",
      "0    Rick   Sanchez   70\n",
      "1   Morty     Smith   14\n",
      "2  Summer     Smith   17\n"
     ]
    }
   ],
   "metadata": {}
  },
  {
   "cell_type": "markdown",
   "source": [
    "`DataFrame` is a class and not an instance, however, we could call a method from it. That is because `from_dict` is a class method. Class methods are very useful to create an instance if you know the user might have different data types when creating the instance. They are also very helpful to create an instance whose initial values you already know.\n",
    "\n",
    "> ## Class Methods are methods that are called from a class rathen than from an instance."
   ],
   "metadata": {}
  },
  {
   "cell_type": "markdown",
   "source": [
    "To implement a class method we use the __decorator__ @classmethod."
   ],
   "metadata": {}
  },
  {
   "cell_type": "code",
   "execution_count": 16,
   "source": [
    "from datetime import datetime\r\n",
    "\r\n",
    "class Date(object):\r\n",
    "\r\n",
    "    def __init__(self, day=0, month=0, year=0):\r\n",
    "        self.day = day\r\n",
    "        self.month = month\r\n",
    "        self.year = year\r\n",
    "    \r\n",
    "    def display(self):\r\n",
    "        return \"{}/{}/{}\".format(self.day, self.month, self.year)\r\n",
    "\r\n",
    "    @classmethod\r\n",
    "    def now(cls):\r\n",
    "        t = datetime.now()\r\n",
    "        day = t.day\r\n",
    "        month = t.month\r\n",
    "        year = t.year\r\n",
    "        return cls(day, month, year)\r\n",
    "        \r\n",
    "    @classmethod\r\n",
    "    def from_string(cls, date_as_string):\r\n",
    "        day, month, year = map(int, date_as_string.split('-'))\r\n",
    "        date1 = Date(day, month, year)\r\n",
    "        return date1"
   ],
   "outputs": [],
   "metadata": {}
  },
  {
   "cell_type": "code",
   "execution_count": 13,
   "source": [
    "date = Date.now()\r\n",
    "date.display()\r\n",
    "print(date.day)"
   ],
   "outputs": [
    {
     "output_type": "stream",
     "name": "stdout",
     "text": [
      "17\n"
     ]
    }
   ],
   "metadata": {}
  },
  {
   "cell_type": "code",
   "execution_count": 15,
   "source": [
    "date_2 = Date('17-08-2021')\r\n",
    "date_2.display()"
   ],
   "outputs": [
    {
     "output_type": "execute_result",
     "data": {
      "text/plain": [
       "'17-08-2021/0/0'"
      ]
     },
     "metadata": {},
     "execution_count": 15
    }
   ],
   "metadata": {}
  },
  {
   "cell_type": "code",
   "execution_count": 22,
   "source": [
    "help(__builtins__.classmethod)"
   ],
   "outputs": [
    {
     "output_type": "stream",
     "name": "stdout",
     "text": [
      "Help on class classmethod in module builtins:\n",
      "\n",
      "class classmethod(object)\n",
      " |  classmethod(function) -> method\n",
      " |  \n",
      " |  Convert a function to be a class method.\n",
      " |  \n",
      " |  A class method receives the class as implicit first argument,\n",
      " |  just like an instance method receives the instance.\n",
      " |  To declare a class method, use this idiom:\n",
      " |  \n",
      " |    class C:\n",
      " |        @classmethod\n",
      " |        def f(cls, arg1, arg2, ...):\n",
      " |            ...\n",
      " |  \n",
      " |  It can be called either on the class (e.g. C.f()) or on an instance\n",
      " |  (e.g. C().f()).  The instance is ignored except for its class.\n",
      " |  If a class method is called for a derived class, the derived class\n",
      " |  object is passed as the implied first argument.\n",
      " |  \n",
      " |  Class methods are different than C++ or Java static methods.\n",
      " |  If you want those, see the staticmethod builtin.\n",
      " |  \n",
      " |  Methods defined here:\n",
      " |  \n",
      " |  __get__(self, instance, owner, /)\n",
      " |      Return an attribute of instance, which is of type owner.\n",
      " |  \n",
      " |  __init__(self, /, *args, **kwargs)\n",
      " |      Initialize self.  See help(type(self)) for accurate signature.\n",
      " |  \n",
      " |  ----------------------------------------------------------------------\n",
      " |  Static methods defined here:\n",
      " |  \n",
      " |  __new__(*args, **kwargs) from builtins.type\n",
      " |      Create and return a new object.  See help(type) for accurate signature.\n",
      " |  \n",
      " |  ----------------------------------------------------------------------\n",
      " |  Data descriptors defined here:\n",
      " |  \n",
      " |  __dict__\n",
      " |  \n",
      " |  __func__\n",
      " |  \n",
      " |  __isabstractmethod__\n",
      "\n"
     ]
    }
   ],
   "metadata": {}
  },
  {
   "cell_type": "markdown",
   "source": [
    "Notice that, for the class methods, the first argument is the class itself, as opposed to regular methods, whose first argument is the instance.\n",
    "\n",
    "The `now` class method is an example of a class method where we know beforehand the arguments that we are expecting.\n",
    "\n",
    "The `from_string` class method is an example of a class method where we know the user might provide a different data type for the arguments.\n",
    "\n",
    "In both cases, the call for class method skips the `__init__` method, which is usually ran first."
   ],
   "metadata": {}
  },
  {
   "cell_type": "code",
   "execution_count": 17,
   "source": [
    "class Dummy:\r\n",
    "    def __init__(self):\r\n",
    "        print('I am running the constructor')\r\n",
    "    \r\n",
    "    @classmethod\r\n",
    "    def dummy_class_method(cls):\r\n",
    "        print('I am running the class method')"
   ],
   "outputs": [],
   "metadata": {}
  },
  {
   "cell_type": "code",
   "execution_count": 18,
   "source": [
    "Dummy.dummy_class_method()"
   ],
   "outputs": [
    {
     "output_type": "stream",
     "name": "stdout",
     "text": [
      "I am running the class method\n"
     ]
    }
   ],
   "metadata": {}
  },
  {
   "cell_type": "markdown",
   "source": [
    "Thus, the constructor is actually ran inside the class method because we programmed it to do so.\n",
    "\n",
    "Thanks to its functionality, class methods can help to improve the flexibility of the code. Just make sure you document the method properly!"
   ],
   "metadata": {}
  },
  {
   "cell_type": "markdown",
   "source": [
    "# Static Methods"
   ],
   "metadata": {}
  },
  {
   "cell_type": "markdown",
   "source": [
    "Static methods are methods that are not bound to an instance or a class. When you call a static method, you do not pass an instance or a class, and they act as a regular function.\n",
    "\n",
    "> ## Static methods are methods that are not bound to an instance or a class. However, to call them you call it from an instance or a class."
   ],
   "metadata": {}
  },
  {
   "cell_type": "code",
   "execution_count": 29,
   "source": [
    "from datetime import datetime\r\n",
    "\r\n",
    "class Date(object):\r\n",
    "\r\n",
    "    def __init__(self, day=0, month=0, year=0):\r\n",
    "        self.day = day\r\n",
    "        self.month = month\r\n",
    "        self.year = year\r\n",
    "        print('I am in the constructor')\r\n",
    "    \r\n",
    "    def display(self):\r\n",
    "        return \"{}/{}/{}\".format(self.day, self.month, self.year)\r\n",
    "\r\n",
    "    @classmethod\r\n",
    "    def now(cls):\r\n",
    "        t = datetime.now()\r\n",
    "        day = t.day\r\n",
    "        month = t.month\r\n",
    "        year = t.year\r\n",
    "        return cls(day, month, year)\r\n",
    "        \r\n",
    "    @classmethod\r\n",
    "    def from_string(cls, date_as_string):\r\n",
    "        day, month, year = map(int, date_as_string.split('-'))\r\n",
    "        date1 = cls(day, month, year)\r\n",
    "        return date1\r\n",
    "\r\n",
    "    @staticmethod\r\n",
    "    def is_date_valid(date_as_string):\r\n",
    "        day, month, year = map(int, date_as_string.split('-'))\r\n",
    "        return day <= 31 and month <= 12 and year <= 3999\r\n",
    "    \r\n",
    "    @staticmethod\r\n",
    "    def is_date_future(date_as_string):\r\n",
    "        day, month, year = map(int, date_as_string.split('-'))\r\n",
    "        current_date = datetime.now()\r\n",
    "        current_year = current_date.year\r\n",
    "        current_day = current_date.day\r\n",
    "        current_month = current_date.month\r\n",
    "        if (current_year < year):\r\n",
    "            return False\r\n",
    "        elif (current_year == year):\r\n",
    "            if (current_day < day):\r\n",
    "                return False\r\n",
    "            elif (current_day == day):\r\n",
    "                if (current_month < month):\r\n",
    "                    return False\r\n",
    "        return True"
   ],
   "outputs": [],
   "metadata": {}
  },
  {
   "cell_type": "code",
   "execution_count": 30,
   "source": [
    "print(Date.is_date_future('29-08-2021'))\r\n",
    "# now = Date.now()\r\n",
    "# print(now.is_date_future('29-07-2021'))"
   ],
   "outputs": [
    {
     "output_type": "stream",
     "name": "stdout",
     "text": [
      "False\n"
     ]
    }
   ],
   "metadata": {}
  },
  {
   "cell_type": "markdown",
   "source": [
    "Observe that the static method does not depend on the instance or the class (we are not using self, or cls). However, we need to call for it from the class or from an instance."
   ],
   "metadata": {}
  },
  {
   "cell_type": "markdown",
   "source": [
    "So, what is the point of using static methods? It is some type of encapsulation,  whenever you need to access a method related to dates, you know that you can find it in the Date class. \r\n",
    "\r\n",
    "> <font size=+1>Static methods and Class methods help keep your code clean and user-friendly.</font>"
   ],
   "metadata": {}
  },
  {
   "cell_type": "markdown",
   "source": [
    "# Property Decorators"
   ],
   "metadata": {}
  },
  {
   "cell_type": "markdown",
   "source": [
    "Properties decorators are a way to add getters and setters for the attributes of a class. This is also a great tool for implementing private variables, which in turn is a methodology for implementing encapsulation.\n",
    "\n",
    "> ## Properties Decorators allow us to keep our variables private and add getters and setters for them."
   ],
   "metadata": {}
  },
  {
   "cell_type": "markdown",
   "source": [
    "To implement a property decorator, we first define the attribute in the constructor, and then we use the property decorator to define the getter and setter methods."
   ],
   "metadata": {}
  },
  {
   "cell_type": "code",
   "execution_count": 31,
   "source": [
    "from datetime import datetime\r\n",
    "\r\n",
    "class Date(object):\r\n",
    "\r\n",
    "    def __init__(self, day=0, month=0, year=0):\r\n",
    "        self.day = day\r\n",
    "        self.month = month\r\n",
    "        self.year = year\r\n",
    "\r\n",
    "    @property\r\n",
    "    def day(self):\r\n",
    "        print('Getting day value')\r\n",
    "        return self.__day\r\n",
    "    \r\n",
    "    @property\r\n",
    "    def month(self):\r\n",
    "        print('Getting month value')\r\n",
    "        return self.__month\r\n",
    "    \r\n",
    "    @property\r\n",
    "    def year(self):\r\n",
    "        print('Getting year value')\r\n",
    "        return self.__year\r\n",
    "\r\n",
    "    def display(self):\r\n",
    "        return \"{}/{}/{}\".format(self.day, self.month, self.year)\r\n",
    "\r\n"
   ],
   "outputs": [],
   "metadata": {}
  },
  {
   "cell_type": "markdown",
   "source": [
    "Observe that we need to define a setter in order to give values to our attributes. This prevents the user from setting the value of an attribute that is not defined."
   ],
   "metadata": {}
  },
  {
   "cell_type": "code",
   "execution_count": 32,
   "source": [
    "day = Date(19, 3, 2018)"
   ],
   "outputs": [
    {
     "output_type": "error",
     "ename": "AttributeError",
     "evalue": "can't set attribute",
     "traceback": [
      "\u001b[0;31m---------------------------------------------------------------------------\u001b[0m",
      "\u001b[0;31mAttributeError\u001b[0m                            Traceback (most recent call last)",
      "\u001b[0;32m<ipython-input-32-bfa039e2dd65>\u001b[0m in \u001b[0;36m<module>\u001b[0;34m\u001b[0m\n\u001b[0;32m----> 1\u001b[0;31m \u001b[0mday\u001b[0m \u001b[0;34m=\u001b[0m \u001b[0mDate\u001b[0m\u001b[0;34m(\u001b[0m\u001b[0;36m19\u001b[0m\u001b[0;34m,\u001b[0m \u001b[0;36m3\u001b[0m\u001b[0;34m,\u001b[0m \u001b[0;36m2018\u001b[0m\u001b[0;34m)\u001b[0m\u001b[0;34m\u001b[0m\u001b[0;34m\u001b[0m\u001b[0m\n\u001b[0m",
      "\u001b[0;32m<ipython-input-31-5af318d5a93a>\u001b[0m in \u001b[0;36m__init__\u001b[0;34m(self, day, month, year)\u001b[0m\n\u001b[1;32m      4\u001b[0m \u001b[0;34m\u001b[0m\u001b[0m\n\u001b[1;32m      5\u001b[0m     \u001b[0;32mdef\u001b[0m \u001b[0m__init__\u001b[0m\u001b[0;34m(\u001b[0m\u001b[0mself\u001b[0m\u001b[0;34m,\u001b[0m \u001b[0mday\u001b[0m\u001b[0;34m=\u001b[0m\u001b[0;36m0\u001b[0m\u001b[0;34m,\u001b[0m \u001b[0mmonth\u001b[0m\u001b[0;34m=\u001b[0m\u001b[0;36m0\u001b[0m\u001b[0;34m,\u001b[0m \u001b[0myear\u001b[0m\u001b[0;34m=\u001b[0m\u001b[0;36m0\u001b[0m\u001b[0;34m)\u001b[0m\u001b[0;34m:\u001b[0m\u001b[0;34m\u001b[0m\u001b[0;34m\u001b[0m\u001b[0m\n\u001b[0;32m----> 6\u001b[0;31m         \u001b[0mself\u001b[0m\u001b[0;34m.\u001b[0m\u001b[0mday\u001b[0m \u001b[0;34m=\u001b[0m \u001b[0mday\u001b[0m\u001b[0;34m\u001b[0m\u001b[0;34m\u001b[0m\u001b[0m\n\u001b[0m\u001b[1;32m      7\u001b[0m         \u001b[0mself\u001b[0m\u001b[0;34m.\u001b[0m\u001b[0mmonth\u001b[0m \u001b[0;34m=\u001b[0m \u001b[0mmonth\u001b[0m\u001b[0;34m\u001b[0m\u001b[0;34m\u001b[0m\u001b[0m\n\u001b[1;32m      8\u001b[0m         \u001b[0mself\u001b[0m\u001b[0;34m.\u001b[0m\u001b[0myear\u001b[0m \u001b[0;34m=\u001b[0m \u001b[0myear\u001b[0m\u001b[0;34m\u001b[0m\u001b[0;34m\u001b[0m\u001b[0m\n",
      "\u001b[0;31mAttributeError\u001b[0m: can't set attribute"
     ]
    }
   ],
   "metadata": {}
  },
  {
   "cell_type": "code",
   "execution_count": 44,
   "source": [
    "from datetime import datetime\r\n",
    "\r\n",
    "class Date(object):\r\n",
    "\r\n",
    "    def __init__(self, day=0, month=0, year=0):\r\n",
    "        self.day = day\r\n",
    "        self.month = month\r\n",
    "        self.year = year\r\n",
    "\r\n",
    "    @property\r\n",
    "    def day(self):\r\n",
    "        print('Getting day value')\r\n",
    "        return self.__day\r\n",
    "    \r\n",
    "    @day.setter\r\n",
    "    def day(self, day):\r\n",
    "        print('Setting day value')\r\n",
    "        if day < 0:\r\n",
    "            raise ValueError('Day cannot be negative')\r\n",
    "        self.__day = day\r\n",
    "    \r\n",
    "    @property\r\n",
    "    def month(self):\r\n",
    "        print('Getting month value')\r\n",
    "        return self.__month\r\n",
    "\r\n",
    "    @month.setter\r\n",
    "    def month(self, month):\r\n",
    "        print('Setting month value')\r\n",
    "        if month < 0:\r\n",
    "            raise ValueError('Month cannot be negative')\r\n",
    "        self.__month = month\r\n",
    "    \r\n",
    "    @month.deleter\r\n",
    "    def month(self):\r\n",
    "        print('Deleting month value')\r\n",
    "        del self.__month\r\n",
    "    \r\n",
    "    @property\r\n",
    "    def year(self):\r\n",
    "        print('Getting year value')\r\n",
    "        return self.__year\r\n",
    "    \r\n",
    "    @year.setter\r\n",
    "    def year(self, year):\r\n",
    "        print('Setting year value')\r\n",
    "        if year < 0:\r\n",
    "            raise ValueError('Year cannot be negative')\r\n",
    "        self.__year = year\r\n",
    "\r\n",
    "\r\n",
    "    def display(self):\r\n",
    "        return \"{}/{}/{}\".format(self.day, self.month, self.year)"
   ],
   "outputs": [],
   "metadata": {}
  },
  {
   "cell_type": "code",
   "execution_count": 45,
   "source": [
    "day = Date(19, 3, 2018)\r\n",
    "day.year"
   ],
   "outputs": [
    {
     "output_type": "stream",
     "name": "stdout",
     "text": [
      "Setting day value\n",
      "Setting month value\n",
      "Setting year value\n",
      "Getting year value\n"
     ]
    },
    {
     "output_type": "execute_result",
     "data": {
      "text/plain": [
       "2018"
      ]
     },
     "metadata": {},
     "execution_count": 45
    }
   ],
   "metadata": {}
  },
  {
   "cell_type": "markdown",
   "source": [
    "Observe that we also included the deletter method. If not included, the attribute can't be deleted."
   ],
   "metadata": {}
  },
  {
   "cell_type": "code",
   "execution_count": 42,
   "source": [
    "del day.month"
   ],
   "outputs": [
    {
     "output_type": "stream",
     "name": "stdout",
     "text": [
      "Deleting month value\n"
     ]
    }
   ],
   "metadata": {}
  },
  {
   "cell_type": "code",
   "execution_count": 43,
   "source": [
    "day.month"
   ],
   "outputs": [
    {
     "output_type": "stream",
     "name": "stdout",
     "text": [
      "Getting month value\n"
     ]
    },
    {
     "output_type": "error",
     "ename": "AttributeError",
     "evalue": "'Date' object has no attribute '_Date__month'",
     "traceback": [
      "\u001b[0;31m---------------------------------------------------------------------------\u001b[0m",
      "\u001b[0;31mAttributeError\u001b[0m                            Traceback (most recent call last)",
      "\u001b[0;32m<ipython-input-43-4af0fbc2e7ae>\u001b[0m in \u001b[0;36m<module>\u001b[0;34m\u001b[0m\n\u001b[0;32m----> 1\u001b[0;31m \u001b[0mday\u001b[0m\u001b[0;34m.\u001b[0m\u001b[0mmonth\u001b[0m\u001b[0;34m\u001b[0m\u001b[0;34m\u001b[0m\u001b[0m\n\u001b[0m",
      "\u001b[0;32m<ipython-input-40-b038ef22343a>\u001b[0m in \u001b[0;36mmonth\u001b[0;34m(self)\u001b[0m\n\u001b[1;32m     23\u001b[0m     \u001b[0;32mdef\u001b[0m \u001b[0mmonth\u001b[0m\u001b[0;34m(\u001b[0m\u001b[0mself\u001b[0m\u001b[0;34m)\u001b[0m\u001b[0;34m:\u001b[0m\u001b[0;34m\u001b[0m\u001b[0;34m\u001b[0m\u001b[0m\n\u001b[1;32m     24\u001b[0m         \u001b[0mprint\u001b[0m\u001b[0;34m(\u001b[0m\u001b[0;34m'Getting month value'\u001b[0m\u001b[0;34m)\u001b[0m\u001b[0;34m\u001b[0m\u001b[0;34m\u001b[0m\u001b[0m\n\u001b[0;32m---> 25\u001b[0;31m         \u001b[0;32mreturn\u001b[0m \u001b[0mself\u001b[0m\u001b[0;34m.\u001b[0m\u001b[0m__month\u001b[0m\u001b[0;34m\u001b[0m\u001b[0;34m\u001b[0m\u001b[0m\n\u001b[0m\u001b[1;32m     26\u001b[0m \u001b[0;34m\u001b[0m\u001b[0m\n\u001b[1;32m     27\u001b[0m     \u001b[0;34m@\u001b[0m\u001b[0mmonth\u001b[0m\u001b[0;34m.\u001b[0m\u001b[0msetter\u001b[0m\u001b[0;34m\u001b[0m\u001b[0;34m\u001b[0m\u001b[0m\n",
      "\u001b[0;31mAttributeError\u001b[0m: 'Date' object has no attribute '_Date__month'"
     ]
    }
   ],
   "metadata": {}
  },
  {
   "cell_type": "markdown",
   "source": [
    "# Dataclass"
   ],
   "metadata": {}
  },
  {
   "cell_type": "markdown",
   "source": [
    "Finally, let's introduce a last decorator: dataclass.\n",
    "\n",
    "This decorator is a bit different from the others. It doesn't add a functionality to the class, but rather an easier way to create a class. It adds several dunder methods (magic methods) to the class. By default, it will add `__init__`, `__repr__`, and `__eq__` methods.\n",
    "\n",
    "> ## Dataclass makes the creation of classes easier by adding a few dunder methods\n",
    "\n",
    "In this case, the decorator needs to be imported from the dataclass library, and it is used as a decorator on the class."
   ],
   "metadata": {}
  },
  {
   "cell_type": "code",
   "execution_count": 11,
   "source": [
    "from dataclasses import dataclass\r\n",
    "\r\n",
    "@dataclass\r\n",
    "class Date:\r\n",
    "    day: int # First positional argument\r\n",
    "    month: int\r\n",
    "    year: int"
   ],
   "outputs": [],
   "metadata": {}
  },
  {
   "cell_type": "code",
   "execution_count": 13,
   "source": [
    "class Date:\r\n",
    "    def __init__(self, day, month):\r\n",
    "        self.day = day\r\n",
    "        self.month = month\r\n",
    "    def __eq__(self, other):\r\n",
    "        return False\r\n",
    "    def __lt__(self, other):\r\n",
    "        return self.month < other.month\r\n",
    "\r\n",
    "date = Date(9, 4)\r\n",
    "date_2 = Date(2, 1)\r\n",
    "\r\n",
    "date == date_2"
   ],
   "outputs": [
    {
     "output_type": "execute_result",
     "data": {
      "text/plain": [
       "False"
      ]
     },
     "metadata": {},
     "execution_count": 13
    }
   ],
   "metadata": {}
  },
  {
   "cell_type": "code",
   "execution_count": 14,
   "source": [
    "date = Date(1, 2)\r\n",
    "print(date)\r\n",
    "# date_2 = Date(1, 2, 2019)\r\n",
    "# date_2 == date"
   ],
   "outputs": [
    {
     "output_type": "stream",
     "name": "stdout",
     "text": [
      "<__main__.Date object at 0x7f9221a6c520>\n"
     ]
    }
   ],
   "metadata": {}
  },
  {
   "cell_type": "markdown",
   "source": [
    "With just a simple decorator, we created a class that contained three dunder methods, but we can use the dataclass decorator to add more functionalities. For now, this is more than enough to keep our code clean and readable. If you want more info about the dataclass decorator, you can read the official documentation in this [Link](https://docs.python.org/3/library/dataclasses.html#module-dataclasses)"
   ],
   "metadata": {}
  },
  {
   "cell_type": "markdown",
   "source": [
    "# Summary"
   ],
   "metadata": {}
  },
  {
   "cell_type": "markdown",
   "source": [
    "- Class methods are methods that are bound to a class instead of an instance.\n",
    "- Statics are methods that belong to a class, but are not bound to an instance or class.\n",
    "- Property decorators are used to add getters and setters to the attributes of a class.\n",
    "- All these decorators keep your code clean for you, other developers and the user\n",
    "- Dataclass decorators are used to define classes in a convenient way."
   ],
   "metadata": {}
  }
 ],
 "metadata": {
  "interpreter": {
   "hash": "569d6b7e9215e11aba41c6454007e5c1b78bad7df09dab765d8cf00362c40f03"
  },
  "kernelspec": {
   "name": "python3",
   "display_name": "Python 3.9.1 64-bit ('base': conda)"
  },
  "language_info": {
   "name": "python",
   "version": "3.9.1",
   "mimetype": "text/x-python",
   "codemirror_mode": {
    "name": "ipython",
    "version": 3
   },
   "pygments_lexer": "ipython3",
   "nbconvert_exporter": "python",
   "file_extension": ".py"
  },
  "orig_nbformat": 4
 },
 "nbformat": 4,
 "nbformat_minor": 2
}