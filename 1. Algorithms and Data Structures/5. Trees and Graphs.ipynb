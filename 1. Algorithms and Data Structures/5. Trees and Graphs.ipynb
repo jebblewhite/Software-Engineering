{
 "cells": [
  {
   "cell_type": "markdown",
   "metadata": {},
   "source": [
    "# Trees and Graphs"
   ]
  },
  {
   "cell_type": "markdown",
   "metadata": {},
   "source": [
    "In programming, a tree is a data structure that simulates a hierarchical structure. Trees are a very important data structure because they are used to represent the structure of a large amount of data. Similar to a Linked List, a tree is a collection of nodes that are linked, but in this case, they are not linearly connected. Trees have a lot of applications, and are a very important part of the data science community.\n",
    "\n",
    "![](images/Tree_structure.png)\n",
    "\n"
   ]
  },
  {
   "cell_type": "markdown",
   "metadata": {},
   "source": [
    "A tree is a data structure composed of:\n",
    "\n",
    "1. A root node (Technically, this isn't necessary in graph theory, but it's usually how trees are used in programming)\n",
    "2. The root node has zero or more child nodes\n",
    "3. Each child node has zero or more child nodes, and so on\n",
    "\n",
    "Before moving on, we should specify some nomenclature:\n",
    "\n",
    "![](images/tree_nomenclature.jpg)\n",
    "\n",
    "- Root: The root node is the first node in the tree.\n",
    "- Parent: Any node except the root node has one edge upward to a node called parent.\n",
    "- Child: A node is a child if it has a parent node.\n",
    "- Leaf: A node is a leaf if it has no children.\n",
    "- Sibling: Two nodes are sibling if it has the same parent node.\n",
    "- Level: It represents the generation of a node. If the root is at level 0, then the first child node is at level 1, the second child node is at level 2, and so on.\n"
   ]
  },
  {
   "cell_type": "markdown",
   "metadata": {},
   "source": [
    "## Traversing a Tree\n",
    "\n",
    "We have two main strategies to traverse a tree:\n",
    "1. BFS: breadth-first search. In BFS, we scan the tree level by level, starting from the root, and then moving to the left and right children.\n",
    "2. DFS: depth-first search. In DFS, we take depth as the main priority. \n",
    "\n",
    "Within DFS, we can find three ways to traverse a tree:\n",
    "1. In-order Traversal\n",
    "2. Pre-order Traversal\n",
    "3. Post-order Traversal\n",
    "\n",
    "![](images/BFS_DFS.png)"
   ]
  },
  {
   "cell_type": "markdown",
   "metadata": {},
   "source": [
    "\n",
    "### In-order Traversal\n",
    "\n",
    "In order traversal is the default traversal method. It traverses the tree in the order of left, root, right:\n",
    "\n",
    "![](images/inorder_traversal.jpg)\n",
    "\n",
    "We start at the root, and recursively traverse the left subtree. Then we visit the root, and recursively traverse the right subtree. In this case, the output will be: \n",
    "\n",
    "D -> B -> E -> A -> F -> C -> G"
   ]
  },
  {
   "cell_type": "markdown",
   "metadata": {},
   "source": [
    "### Pre-Order Traversal\n",
    "\n",
    "In pre-order traversal, we visit the root node first, then recursively visit the left subtree and finally the right subtree.\n",
    "\n",
    "![](images/preorder_traversal.jpg)\n",
    "\n",
    "The process goes on until all the nodes are visited. The output of this tree is:\n",
    "\n",
    "A -> B -> D -> E -> C -> F -> G"
   ]
  },
  {
   "cell_type": "markdown",
   "metadata": {},
   "source": [
    "### Post-Order Traversal   \n",
    "In post-order traversal, we visit the left subtree, then the right subtree, then the root.\n",
    "\n",
    "![](images/postorder_traversal.jpg)\n",
    "\n",
    "The process goes until all the nodes are visited. The output of this tree is:\n",
    "\n",
    "D -> E -> B -> F -> G -> C -> A\n",
    "\n",
    "Visit this link for getting more information about traversing binary trees: [Traversing binary trees simply and cheaply](https://www.sciencedirect.com/science/article/abs/pii/0020019079900681)"
   ]
  },
  {
   "cell_type": "markdown",
   "metadata": {},
   "source": [
    "## Binary Trees\n",
    "\n",
    "Binary trees are trees where each node has up to two children.\n",
    "\n",
    "![](images/general_tree_vs_binary.jpg)"
   ]
  },
  {
   "cell_type": "markdown",
   "metadata": {},
   "source": [
    "## Implementing a Binary Tree\n",
    "\n",
    "We already have seen Nodes and Linked Lists. Now we will implement a Binary Tree using the same principle we did for Linked Lists. In this case, we are implementing a very basic binary tree, using just a node class. Take into account that the nodes have two next attibutes: left and right."
   ]
  },
  {
   "cell_type": "code",
   "execution_count": 62,
   "metadata": {},
   "outputs": [
    {
     "name": "stdout",
     "output_type": "stream",
     "text": [
      "        <---------1---------> \n",
      " None <-2-> None      None <-3->4 \n"
     ]
    }
   ],
   "source": [
    "class Node:\n",
    "    def __init__(self, data: int):\n",
    "        # If both children are None, then this node is a leaf\n",
    "        self.left = None # The left child of this node\n",
    "        self.right = None # The right child of this node\n",
    "        self.data = data\n",
    "    \n",
    "    def __str__(self):\n",
    "        if self.left is None and self.right is None:\n",
    "            return 'None <-' + str(self.data) + '-> None'\n",
    "        elif self.left is None:\n",
    "            return 'None <-' + str(self.data) + '->' + str(self.right.data)\n",
    "        elif self.right is None:\n",
    "            return str(self.left) + '<-' + str(self.data) + '-> None'\n",
    "        return f'''        <---------{str(self.data)}---------> \\n {self.left}      {self.right} '''\n",
    "\n",
    "\n",
    "root = Node(1)\n",
    "root.left = Node(2)\n",
    "node_3 = root.right = Node(3)\n",
    "node_4 = root.right.right = Node(4)\n",
    "print(root)\n",
    "\n",
    "    "
   ]
  },
  {
   "cell_type": "markdown",
   "metadata": {},
   "source": [
    "## Implementing Tree Traversal algorithms"
   ]
  },
  {
   "cell_type": "markdown",
   "metadata": {},
   "source": [
    "As we saw, there are two main ways to traverse a tree: BFS and DFS.\n",
    "\n",
    "In one of the assessments you will be asked to traverse a tree in a BFS manner. Here, we are going to see the DFS version.\n"
   ]
  },
  {
   "cell_type": "markdown",
   "metadata": {},
   "source": [
    "\n",
    "### Implementing In-Order Traversal and Pre-Order Traversal\n",
    "\n",
    "Now, I am going to run through two codes, one for in-order traversal and one for pre-order traversal. Then you will have to implement the post-order traversal code:"
   ]
  },
  {
   "cell_type": "code",
   "execution_count": 69,
   "metadata": {},
   "outputs": [
    {
     "name": "stdout",
     "output_type": "stream",
     "text": [
      "[2, 4, 5, 6, 8, 9, 42]\n"
     ]
    }
   ],
   "source": [
    "class Node:\n",
    "\n",
    "    def __init__(self, data):\n",
    "\n",
    "        self.left = None\n",
    "        self.right = None\n",
    "        self.data = data\n",
    "\n",
    "    def insert(self, data):\n",
    "        # If the tree contains data, we are going to traverse in an inorder fashion.\n",
    "        if self.data:\n",
    "            # If the data is less than the root, we are going to look in the left hand side subtree\n",
    "            if data < self.data:\n",
    "                # If the left subtree is empty, we are going to insert the data to the left\n",
    "                if self.left is None:\n",
    "                    self.left = Node(data)\n",
    "                # Otherwise, we are going to traverse in the left subtree recursively (notice we are calling the same function)\n",
    "                else:\n",
    "                    self.left.insert(data)\n",
    "            # If the data is greater than the root, we are going to look in the right hand side subtree\n",
    "            elif data > self.data:\n",
    "                # If the right subtree is empty, we are going to insert the data to the right\n",
    "                if self.right is None:\n",
    "                    self.right = Node(data)\n",
    "                # Otherwise, we are going to traverse in the right subtree recursively (notice we are calling the same function)\n",
    "                else:\n",
    "                    self.right.insert(data)\n",
    "        # If the tree is empty, we are going to insert the data to the root\n",
    "        else:\n",
    "            self.data = data\n",
    "\n",
    "# Print the Tree\n",
    "    def PrintTree(self):\n",
    "        if self.left:\n",
    "            self.left.PrintTree()\n",
    "        print( self.data),\n",
    "        if self.right:\n",
    "            self.right.PrintTree()\n",
    "\n",
    "    def inorderTraversal(self, root):\n",
    "        res = []\n",
    "        if root:\n",
    "            res = self.inorderTraversal(root.left)\n",
    "            res.append(root.data)\n",
    "            res = res + self.inorderTraversal(root.right)\n",
    "        return res\n",
    "\n",
    "root = Node(5)\n",
    "root.insert(2)\n",
    "root.insert(6)\n",
    "root.insert(4)\n",
    "root.insert(8)\n",
    "root.insert(42)\n",
    "root.insert(9)\n",
    "print(root.inorderTraversal(root))"
   ]
  },
  {
   "cell_type": "code",
   "execution_count": 71,
   "metadata": {},
   "outputs": [
    {
     "name": "stdout",
     "output_type": "stream",
     "text": [
      "[2, 4, 5, 6, 8, 9, 42]\n",
      "[5, 2, 4, 6, 8, 42, 9]\n"
     ]
    }
   ],
   "source": [
    "class Node:\n",
    "\n",
    "    def __init__(self, data):\n",
    "\n",
    "        self.left = None\n",
    "        self.right = None\n",
    "        self.data = data\n",
    "\n",
    "    def insert(self, data):\n",
    "        # If the tree contains data, we are going to traverse in an inorder fashion.\n",
    "        if self.data:\n",
    "            # If the data is less than the root, we are going to look in the left hand side subtree\n",
    "            if data < self.data:\n",
    "                # If the left subtree is empty, we are going to insert the data to the left\n",
    "                if self.left is None:\n",
    "                    self.left = Node(data)\n",
    "                # Otherwise, we are going to traverse in the left subtree recursively (notice we are calling the same function)\n",
    "                else:\n",
    "                    self.left.insert(data)\n",
    "            # If the data is greater than the root, we are going to look in the right hand side subtree\n",
    "            elif data > self.data:\n",
    "                # If the right subtree is empty, we are going to insert the data to the right\n",
    "                if self.right is None:\n",
    "                    self.right = Node(data)\n",
    "                # Otherwise, we are going to traverse in the right subtree recursively (notice we are calling the same function)\n",
    "                else:\n",
    "                    self.right.insert(data)\n",
    "        # If the tree is empty, we are going to insert the data to the root\n",
    "        else:\n",
    "            self.data = data\n",
    "\n",
    "# Print the Tree\n",
    "    def PrintTree(self):\n",
    "        if self.left:\n",
    "            self.left.PrintTree()\n",
    "        print( self.data),\n",
    "        if self.right:\n",
    "            self.right.PrintTree()\n",
    "\n",
    "    def inorderTraversal(self, root):\n",
    "        res = []\n",
    "        if root:\n",
    "            res = self.inorderTraversal(root.left)\n",
    "            res.append(root.data)\n",
    "            res = res + self.inorderTraversal(root.right)\n",
    "        return res\n",
    "\n",
    "    def PreorderTraversal(self, root):\n",
    "        res = []\n",
    "        if root:\n",
    "            res.append(root.data)\n",
    "            res = res + self.PreorderTraversal(root.left)\n",
    "            res = res + self.PreorderTraversal(root.right)\n",
    "        return res\n",
    "\n",
    "root = Node(5)\n",
    "root.insert(2)\n",
    "root.insert(6)\n",
    "root.insert(4)\n",
    "root.insert(8)\n",
    "root.insert(42)\n",
    "root.insert(9)\n",
    "print(root.inorderTraversal(root))\n",
    "print(root.PreorderTraversal(root))"
   ]
  },
  {
   "cell_type": "markdown",
   "metadata": {},
   "source": [
    "## Challenge: Postorder Traversal\n",
    "\n",
    "Now, using the same code above, implement a postorder traversal method."
   ]
  },
  {
   "cell_type": "code",
   "execution_count": 73,
   "metadata": {},
   "outputs": [
    {
     "name": "stdout",
     "output_type": "stream",
     "text": [
      "[2, 4, 5, 6, 8, 9, 42]\n",
      "[5, 2, 4, 6, 8, 42, 9]\n",
      "None\n"
     ]
    }
   ],
   "source": [
    "class Node:\n",
    "\n",
    "    def __init__(self, data):\n",
    "\n",
    "        self.left = None\n",
    "        self.right = None\n",
    "        self.data = data\n",
    "\n",
    "    def insert(self, data):\n",
    "        # If the tree contains data, we are going to traverse in an inorder fashion.\n",
    "        if self.data:\n",
    "            # If the data is less than the root, we are going to look in the left hand side subtree\n",
    "            if data < self.data:\n",
    "                # If the left subtree is empty, we are going to insert the data to the left\n",
    "                if self.left is None:\n",
    "                    self.left = Node(data)\n",
    "                # Otherwise, we are going to traverse in the left subtree recursively (notice we are calling the same function)\n",
    "                else:\n",
    "                    self.left.insert(data)\n",
    "            # If the data is greater than the root, we are going to look in the right hand side subtree\n",
    "            elif data > self.data:\n",
    "                # If the right subtree is empty, we are going to insert the data to the right\n",
    "                if self.right is None:\n",
    "                    self.right = Node(data)\n",
    "                # Otherwise, we are going to traverse in the right subtree recursively (notice we are calling the same function)\n",
    "                else:\n",
    "                    self.right.insert(data)\n",
    "        # If the tree is empty, we are going to insert the data to the root\n",
    "        else:\n",
    "            self.data = data\n",
    "\n",
    "# Print the Tree\n",
    "    def PrintTree(self):\n",
    "        if self.left:\n",
    "            self.left.PrintTree()\n",
    "        print( self.data),\n",
    "        if self.right:\n",
    "            self.right.PrintTree()\n",
    "\n",
    "    def inorderTraversal(self, root):\n",
    "        res = []\n",
    "        if root:\n",
    "            res = self.inorderTraversal(root.left)\n",
    "            res.append(root.data)\n",
    "            res = res + self.inorderTraversal(root.right)\n",
    "        return res\n",
    "\n",
    "    def PreorderTraversal(self, root):\n",
    "        res = []\n",
    "        if root:\n",
    "            res.append(root.data)\n",
    "            res = res + self.PreorderTraversal(root.left)\n",
    "            res = res + self.PreorderTraversal(root.right)\n",
    "        return res\n",
    "    \n",
    "    def PostorderTraversal(self, root):\n",
    "        ### Your code here\n",
    "        pass\n",
    "\n",
    "root = Node(5)\n",
    "root.insert(2)\n",
    "root.insert(6)\n",
    "root.insert(4)\n",
    "root.insert(8)\n",
    "root.insert(42)\n",
    "root.insert(9)\n",
    "print(root.inorderTraversal(root))\n",
    "print(root.PreorderTraversal(root))\n",
    "print(root.PostorderTraversal(root))\n"
   ]
  },
  {
   "cell_type": "markdown",
   "metadata": {},
   "source": [
    "## Binary Search Trees"
   ]
  },
  {
   "cell_type": "markdown",
   "metadata": {},
   "source": [
    "One special type of binary search is binary search trees. A binary search tree is a binary tree in which every node fits a specific property: ```all left descendents have a values lower or equal than the node, and in turn, the node has a lower value than all right descendents```\n",
    "\n",
    "This inequality must be true for every node in the tree, not just its immediate children.\n",
    "\n",
    "![](images/bst-vs-not-bst.jpg)"
   ]
  },
  {
   "cell_type": "markdown",
   "metadata": {},
   "source": [
    "_Why the right hand side tree is not binary?_"
   ]
  },
  {
   "cell_type": "markdown",
   "metadata": {},
   "source": [
    "This data structure makes searching a specific value very fast. The first challenge in this notebook consists on implementing a binary search tree. Take a good look at the picture, remember the rules, and try to implement the algorithm.\n",
    "\n",
    "One of the most common use-cases is in storing indexes and keys in a database. For example, in PostgreSQL every primary key column is a binary tree where each node is a key and these nodes are pointing to the database rows."
   ]
  },
  {
   "cell_type": "markdown",
   "metadata": {},
   "source": [
    "## Graphs\n",
    "\n",
    "We have just seen trees, which are a special case of graphs. Not all graphs are trees. Essentially, a graph is a collection of nodes (or vertex) and edges.\n",
    "\n",
    "- Graphs can be directed or undirected: directed means that there is a directed edge from one vertex to another. Undirected means that the edges are connected in both directions.\n",
    "- Graphs can have cycles (cyclic graph) or not (acyclic graph).\n",
    "- A graph can be weighted or unweighted. Each branch is given a numerical weight.\n",
    "\n",
    "\n",
    "![](images/DAG.png)"
   ]
  },
  {
   "cell_type": "markdown",
   "metadata": {},
   "source": [
    "One of the most commnon DAGs you will see are neural networks, where each node is a neuron.\n",
    "\n",
    "![](images/Neural_Network.png)"
   ]
  },
  {
   "cell_type": "markdown",
   "metadata": {},
   "source": [
    "In programming, there are two common ways to represent a graph:\n",
    "1. Adjacency list\n",
    "2. Adjacency matrix"
   ]
  },
  {
   "cell_type": "markdown",
   "metadata": {},
   "source": [
    "### Adjacency List\n",
    "Every vertex stores a list of adjacent vertices. In an undirected graph, and edge would be stored twice.\n",
    "\n",
    "Let's see an example:\n",
    "\n",
    "![](images/graph_example.png)\n"
   ]
  },
  {
   "cell_type": "code",
   "execution_count": 83,
   "metadata": {},
   "outputs": [
    {
     "name": "stdout",
     "output_type": "stream",
     "text": [
      "Vertex 0: -> 3 -> 2 -> 1 \n",
      "\n",
      "Vertex 1: -> 2 -> 0 \n",
      "\n",
      "Vertex 2: -> 1 -> 0 \n",
      "\n",
      "Vertex 3: -> 0 \n",
      "\n"
     ]
    }
   ],
   "source": [
    "class AdjNode:\n",
    "    def __init__(self, value):\n",
    "        self.vertex = value\n",
    "        self.next = None\n",
    "\n",
    "\n",
    "class Graph:\n",
    "    def __init__(self, num):\n",
    "        self.V = num\n",
    "        self.graph = [None] * self.V\n",
    "\n",
    "    # Add edges\n",
    "    def add_edge(self, s, d):\n",
    "        node = AdjNode(d)\n",
    "        node.next = self.graph[s]\n",
    "        self.graph[s] = node\n",
    "\n",
    "        node = AdjNode(s)\n",
    "        node.next = self.graph[d]\n",
    "        self.graph[d] = node\n",
    "\n",
    "    # Print the graph\n",
    "    def print_agraph(self):\n",
    "        for i in range(self.V):\n",
    "            print(\"Vertex \" + str(i) + \":\", end=\"\")\n",
    "            temp = self.graph[i]\n",
    "            while temp:\n",
    "                print(\" -> {}\".format(temp.vertex), end=\"\")\n",
    "                temp = temp.next\n",
    "            print(\" \\n\")\n",
    "\n",
    "\n",
    "V = 4\n",
    "\n",
    "# Create graph and edges\n",
    "graph = Graph(V)\n",
    "graph.add_edge(0, 1)\n",
    "graph.add_edge(0, 2)\n",
    "graph.add_edge(0, 3)\n",
    "graph.add_edge(1, 2)\n",
    "\n",
    "graph.print_agraph()"
   ]
  },
  {
   "cell_type": "markdown",
   "metadata": {},
   "source": [
    "### Adjacency Matrix\n",
    "\n",
    "An adjancency matrix is a 2D array of booleans where a true value at matrix[i][j] that represents an edge from node i to node j.\n",
    "\n",
    "For the example above, the adjacency matrix would look like:\n",
    "\n",
    "|   | 0 | 1  | 2  | 3  |\n",
    "|---|---|---|---|---|\n",
    "| 0 | 0 | 1  | 1  | 1  |\n",
    "| 1 | 1 | 0  | 1  | 0  |\n",
    "| 2 | 1 | 1  | 0  | 0  |\n",
    "| 3 | 1 | 0  | 0  | 0 |\n",
    "\n",
    "Observe that the matrix is symmetric, this is beacuse the graph is undirected. On the other hand, if the graph were directed, the matrix would not necessarily be symmetric.\n",
    "\n",
    "Both matrix and list are used for search algorithms. However, adjacency lists are more efficient since you can easily iterate through the neigbors of a node, whereas an adjacency matrix requires you to iterate through all the nodes in the graph."
   ]
  },
  {
   "cell_type": "markdown",
   "metadata": {},
   "source": [
    "## Graph Search\n",
    "\n",
    "The most common ways to search a graph are depth-first search and breadth-first search.\n",
    "\n",
    "In DFS. we start at an arbitrary node and visit all the nodes connected to it. That is, we go deep first before we go wide. DFS is often preferred if we want to visit every node. \n",
    "\n",
    "In BFS, we start at the root and explode each neighbour before going on to any of their children. If we want to find the shortest path between two nodes, we can use BFS.\n",
    "\n",
    "![](images/BFS-DFS.png)"
   ]
  },
  {
   "cell_type": "markdown",
   "metadata": {},
   "source": [
    "# Challenges"
   ]
  },
  {
   "cell_type": "markdown",
   "metadata": {},
   "source": [
    "## 1. Implement a Binary Search Tree.\n",
    "\n",
    "Take into account that the tree is a binary tree, so the left child of a node is always smaller than the node itself, and the right child of a node is always bigger than the node itself. This rule is met not only for the immediate children, but also for the entire tree."
   ]
  },
  {
   "cell_type": "code",
   "execution_count": null,
   "metadata": {},
   "outputs": [],
   "source": []
  },
  {
   "cell_type": "markdown",
   "metadata": {},
   "source": [
    "\n",
    "\n",
    "## 2. Number of nodes\n",
    "\n",
    "Given a tree, find the number of nodes, and max depth\n"
   ]
  },
  {
   "cell_type": "code",
   "execution_count": null,
   "metadata": {},
   "outputs": [],
   "source": []
  },
  {
   "cell_type": "markdown",
   "metadata": {},
   "source": [
    "## 3. DFS and BFS Implementation for graphs\n",
    "\n",
    "Given the implementation of DFS, implement BFS algorithms for a graph. Use the following graph as an example:\n",
    "![](images/graphs_q3.png)"
   ]
  },
  {
   "cell_type": "code",
   "execution_count": 84,
   "metadata": {},
   "outputs": [
    {
     "name": "stdout",
     "output_type": "stream",
     "text": [
      "Following is DFS from (starting from vertex 2)\n",
      "2 0 1 3 "
     ]
    }
   ],
   "source": [
    "from collections import defaultdict\n",
    "\n",
    "class Graph:\n",
    " \n",
    "    def __init__(self):\n",
    "\n",
    "        self.graph = defaultdict(list)\n",
    " \n",
    "    def addEdge(self, u, v):\n",
    "        self.graph[u].append(v)\n",
    " \n",
    "    def DFSUtil(self, v, visited):\n",
    " \n",
    "        visited.add(v)\n",
    "        print(v, end=' ')\n",
    " \n",
    "        for neighbour in self.graph[v]:\n",
    "            if neighbour not in visited:\n",
    "                self.DFSUtil(neighbour, visited)\n",
    " \n",
    "    def DFS(self, v):\n",
    "        visited = set()\n",
    "        self.DFSUtil(v, visited)\n",
    "\n",
    "g = Graph()\n",
    "g.addEdge(0, 1)\n",
    "g.addEdge(0, 2)\n",
    "g.addEdge(1, 2)\n",
    "g.addEdge(2, 0)\n",
    "g.addEdge(2, 3)\n",
    "g.addEdge(3, 3)\n",
    " \n",
    "print(\"Following is DFS from (starting from vertex 2)\")\n",
    "g.DFS(2)"
   ]
  },
  {
   "cell_type": "markdown",
   "metadata": {},
   "source": [
    "\n",
    "## 3. Binary Search?\n",
    "\n",
    "Given a tree, implement a function that returns whether the tree is a binary search tree."
   ]
  },
  {
   "cell_type": "markdown",
   "metadata": {},
   "source": [
    "## 4. Mirrored Tree\n",
    "\n",
    "Create a function that, given a tree, returns true if it is a mirrored tree."
   ]
  },
  {
   "cell_type": "markdown",
   "metadata": {},
   "source": [
    "## 5. Path Sum\n",
    "\n",
    "Return true if and only if the given binary tree has a root-to-leaf path such that adding up all the values along the path equals the given sum."
   ]
  },
  {
   "cell_type": "markdown",
   "metadata": {},
   "source": [
    "# Assessments\n",
    "\n",
    "1. Look information for Heap. (max heap, min heap)\n",
    "2. Look information for n-ary trees. \n",
    "3. Look information for Tries (Prefix Tree)\n",
    "4. Implement In-order, Pre-order, Post-order traversals using iterative methods. (Hint: You might need to use a stack, so you can use the deque library.)\n",
    "5. Implement BFS traversal iteratively. (Hint: You might need to use a queue, so you can use the deque library.)\n",
    "6. Look information about topological sort\n",
    "7. Look information about Dijkstra's algorithm\n",
    "8. Look information about AVL trees\n",
    "9. Look information about Red-Black trees"
   ]
  },
  {
   "cell_type": "markdown",
   "metadata": {},
   "source": []
  }
 ],
 "metadata": {
  "interpreter": {
   "hash": "569d6b7e9215e11aba41c6454007e5c1b78bad7df09dab765d8cf00362c40f03"
  },
  "kernelspec": {
   "display_name": "Python 3.9.1 64-bit ('base': conda)",
   "name": "python3"
  },
  "language_info": {
   "codemirror_mode": {
    "name": "ipython",
    "version": 3
   },
   "file_extension": ".py",
   "mimetype": "text/x-python",
   "name": "python",
   "nbconvert_exporter": "python",
   "pygments_lexer": "ipython3",
   "version": "3.9.1"
  },
  "orig_nbformat": 4
 },
 "nbformat": 4,
 "nbformat_minor": 2
}