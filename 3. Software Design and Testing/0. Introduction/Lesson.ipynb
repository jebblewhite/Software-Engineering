{
 "cells": [
  {
   "cell_type": "markdown",
   "metadata": {},
   "source": [
    "# Introduction"
   ]
  },
  {
   "cell_type": "markdown",
   "metadata": {},
   "source": [
    "OOP is not only a programming paradigm, it also keeps your code clean, readable, and efficient, avoiding redundancies and frictions. Imagine you are using other programmer's code, if the software works well, you will hardly notice it. You will want a __frictionless__ experience, and that same experience should be also underwent if you are a developer working in a team. \n",
    "\n",
    "As a developer, friction might appear in many forms:\n",
    "1. Bugs\n",
    "2. Reusing the same code over and over again\n",
    "3. Relying too much on external libraries\n",
    "4. Poor readability\n",
    "5. Lack of documentation\n",
    "\n",
    "And these are just a few examples! "
   ]
  },
  {
   "cell_type": "markdown",
   "metadata": {},
   "source": [
    "\n",
    "In this module you will learn how to:\n",
    "1. Add robustness to your code to avoid bugs\n",
    "2. Structure your code, so you fulfill the DRY (Don't repeat Yourself) principle\n",
    "3. Structure your project files\n",
    "4. Add the proper methods to your classes, so that the user don't have to think of external libraries to make your code work smoothly\n",
    "5. Keep your code clean, and thus improving readability\n",
    "6. How to document your functions and methods to avoid WTF moments"
   ]
  }
 ],
 "metadata": {
  "interpreter": {
   "hash": "569d6b7e9215e11aba41c6454007e5c1b78bad7df09dab765d8cf00362c40f03"
  },
  "kernelspec": {
   "display_name": "Python 3.9.1 64-bit ('base': conda)",
   "name": "python3"
  },
  "language_info": {
   "name": "python",
   "version": ""
  },
  "orig_nbformat": 4
 },
 "nbformat": 4,
 "nbformat_minor": 2
}